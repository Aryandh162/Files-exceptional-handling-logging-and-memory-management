{
  "nbformat": 4,
  "nbformat_minor": 0,
  "metadata": {
    "colab": {
      "provenance": []
    },
    "kernelspec": {
      "name": "python3",
      "display_name": "Python 3"
    },
    "language_info": {
      "name": "python"
    }
  },
  "cells": [
    {
      "cell_type": "markdown",
      "source": [
        "#Files, exceptional handling, logging and memory management Assignment"
      ],
      "metadata": {
        "id": "ATwNDjVH-Jx1"
      }
    },
    {
      "cell_type": "markdown",
      "source": [
        "1. What is the difference between interpreted and compiled languages?\n"
      ],
      "metadata": {
        "id": "RR9bLqzN-OaP"
      }
    },
    {
      "cell_type": "markdown",
      "source": [
        "=> An interpreted language is a programming language whose implementations execute instructions directly and freely, without previously compiling a program into machine-language instructions.\n",
        "\n",
        "A compiled language is a programming language whose implementations are typically compilers and not interpreters.\n",
        "\n",
        "\n"
      ],
      "metadata": {
        "id": "kKMa3a9NDuF0"
      }
    },
    {
      "cell_type": "markdown",
      "source": [
        "2. What is exception handling in Python?\n"
      ],
      "metadata": {
        "id": "lUwzuIDc_VZ7"
      }
    },
    {
      "cell_type": "markdown",
      "source": [
        "=> Python Exception Handling handles errors that occur during the execution of a program. Exception handling allows to respond to the error, instead of crashing the running program."
      ],
      "metadata": {
        "id": "5XGIH4liDucw"
      }
    },
    {
      "cell_type": "markdown",
      "source": [
        "3. What is the purpose of the finally block in exception handling?\n"
      ],
      "metadata": {
        "id": "I3odldSE_XRh"
      }
    },
    {
      "cell_type": "markdown",
      "source": [
        "=> The finally block in programming, commonly used in languages like Java and C#, is a block of code that is executed regardless of whether an exception is thrown or not."
      ],
      "metadata": {
        "id": "Vp1dV3SnDvDs"
      }
    },
    {
      "cell_type": "markdown",
      "source": [
        "4. What is logging in Python?\n"
      ],
      "metadata": {
        "id": "8CXTBO6U_Zmn"
      }
    },
    {
      "cell_type": "markdown",
      "source": [
        "=> Logging is a means of tracking events that happen when some software runs. Logging is important for software developing, debugging, and running"
      ],
      "metadata": {
        "id": "hYvEmbpTDvd8"
      }
    },
    {
      "cell_type": "markdown",
      "source": [
        "5. What is the significance of the __del__ method in Python?\n"
      ],
      "metadata": {
        "id": "4SxsxKxV_biV"
      }
    },
    {
      "cell_type": "markdown",
      "source": [
        "=> The `__del__` method in Python is a special method, also known as a destructor, that is called when an object is about to be destroyed. It allows you to define specific cleanup actions that should be taken when an object is garbage collected"
      ],
      "metadata": {
        "id": "ncc5ANiRDwBK"
      }
    },
    {
      "cell_type": "markdown",
      "source": [
        "6. What is the difference between import and from ... import in Python?\n"
      ],
      "metadata": {
        "id": "76Jor0wl_dhn"
      }
    },
    {
      "cell_type": "markdown",
      "source": [
        "=> The `import` statement is used to import an entire module into your current namespace. This means that you can access all the functions, classes, and variables defined in the module, but you need to prefix them with the module name.\n",
        "\n",
        "The `from import` statement allows you to import specific attributes or functions from a module directly into your current namespace. This means you can use them without the module name prefix."
      ],
      "metadata": {
        "id": "Qp-wk_VADwd-"
      }
    },
    {
      "cell_type": "markdown",
      "source": [
        "7. How can you handle multiple exceptions in Python?\n",
        "\n"
      ],
      "metadata": {
        "id": "S4ndsz8E_feZ"
      }
    },
    {
      "cell_type": "markdown",
      "source": [
        "=> In Python, handling multiple exceptions is crucial for writing robust and error-resistant code. When your code encounters an error, it raises an exception, which can be caught and handled using the `try` and `except` blocks."
      ],
      "metadata": {
        "id": "OykSVUTsDwwL"
      }
    },
    {
      "cell_type": "markdown",
      "source": [
        "8. What is the purpose of the with statement when handling files in Python?\n"
      ],
      "metadata": {
        "id": "oksKjuPB_l1n"
      }
    },
    {
      "cell_type": "markdown",
      "source": [
        "=> The with statement in Python is used for resource management and exception handling. It simplifies working with resources like files, network connections and database connections by ensuring they are properly acquired and released."
      ],
      "metadata": {
        "id": "5oAsSg4mJkLa"
      }
    },
    {
      "cell_type": "markdown",
      "source": [
        "9. What is the difference between multithreading and multiprocessing?\n"
      ],
      "metadata": {
        "id": "LCZoLwf6_oC9"
      }
    },
    {
      "cell_type": "markdown",
      "source": [
        "=> Multithreading is a system in which multiple threads are created of a process for increasing the computing speed of the system.\n",
        "\n",
        "In Multiprocessing, CPUs are added for increasing computing power."
      ],
      "metadata": {
        "id": "uScRd8H2Dxj6"
      }
    },
    {
      "cell_type": "markdown",
      "source": [
        "10. What are the advantages of using logging in a program?\n"
      ],
      "metadata": {
        "id": "EbjyuCdE_qDn"
      }
    },
    {
      "cell_type": "markdown",
      "source": [
        "=> Benefits of Logging\n",
        "* Debugging − Helps identify and diagnose issues by capturing relevant information during program execution.\n",
        "* Monitoring − Provides insights into the application's behavior and performance.\n",
        "* Auditing − Keeps a record of important events and actions for security purposes.\n",
        "* Troubleshooting − Facilitates tracking of program flow and variable values to understand unexpected behavior."
      ],
      "metadata": {
        "id": "56xyaIa3DyEk"
      }
    },
    {
      "cell_type": "markdown",
      "source": [
        "11. What is memory management in Python?\n"
      ],
      "metadata": {
        "id": "tsus_0X1_rqM"
      }
    },
    {
      "cell_type": "markdown",
      "source": [
        "=> Memory allocation is important to any software developer as writing efficient code means writing a memory-efficient code. Memory allocation can be defined as allocating a block of space in the computer memory to a program."
      ],
      "metadata": {
        "id": "Li-qB5InDyi6"
      }
    },
    {
      "cell_type": "markdown",
      "source": [
        "12. What are the basic steps involved in exception handling in Python?\n"
      ],
      "metadata": {
        "id": "f3S6SlWG_tdS"
      }
    },
    {
      "cell_type": "markdown",
      "source": [
        "=> Python Exception Handling handles errors that occur during the execution of a program. Exception handling allows to respond to the error, instead of crashing the running program."
      ],
      "metadata": {
        "id": "OT_JlLspDzBl"
      }
    },
    {
      "cell_type": "markdown",
      "source": [
        "13. Why is memory management important in Python?\n"
      ],
      "metadata": {
        "id": "9-ksMJzd_vdg"
      }
    },
    {
      "cell_type": "markdown",
      "source": [
        "=> Memory allocation is important to any software developer as writing efficient code means writing a memory-efficient code. Memory allocation can be defined as allocating a block of space in the computer memory to a program."
      ],
      "metadata": {
        "id": "HtDQw3lzDzbt"
      }
    },
    {
      "cell_type": "markdown",
      "source": [
        "14. What is the role of try and except in exception handling?\n"
      ],
      "metadata": {
        "id": "KJTEpPuA_xTw"
      }
    },
    {
      "cell_type": "markdown",
      "source": [
        "=> try: Runs a block of code that might cause an error. except: Catches and handles the specified exception. ExceptionType: Defines the type of error to handle, such as ZeroDivisionError or FileNotFoundError. A finally block ensures that specific code runs no matter what happens."
      ],
      "metadata": {
        "id": "p03rKAvAD0Ca"
      }
    },
    {
      "cell_type": "markdown",
      "source": [
        "15. How does Python's garbage collection system work?\n"
      ],
      "metadata": {
        "id": "cEObDJmf_zjo"
      }
    },
    {
      "cell_type": "markdown",
      "source": [
        "=> Memory management is an important yet often overlooked aspect of programming. If not handled properly, it can lead to slow applications, unexpected crashes, or even memory leaks. Fortunately, Python takes care of this through a process known as garbage collection, which is a built-in system that automatically manages memory."
      ],
      "metadata": {
        "id": "YyO59_XED0eW"
      }
    },
    {
      "cell_type": "markdown",
      "source": [
        "16. What is the purpose of the else block in exception handling?\n"
      ],
      "metadata": {
        "id": "Tq4rhVNC_1S4"
      }
    },
    {
      "cell_type": "markdown",
      "source": [
        "=> The `else` block is useful for code that should run only if the try block does not raise an exception. This can help keep your code clean and separate the normal execution path from error handling."
      ],
      "metadata": {
        "id": "WlKayiYoD0yW"
      }
    },
    {
      "cell_type": "markdown",
      "source": [
        " 17. What are the common logging levels in Python?\n"
      ],
      "metadata": {
        "id": "TaglyYbaAAmQ"
      }
    },
    {
      "cell_type": "markdown",
      "source": [
        "=> Logging is a means of tracking events that happen when some software runs. Logging is important for software developing, debugging, and running. If you don’t have any logging record and your program crashes, there are very few chances that you detect the cause of the problem. And if you detect the cause, it will consume a lot of time."
      ],
      "metadata": {
        "id": "UrNbOQ2vD1Sj"
      }
    },
    {
      "cell_type": "markdown",
      "source": [
        " 18. What is the difference between os.fork() and multiprocessing in Python?\n",
        ""
      ],
      "metadata": {
        "id": "GxyJxEB9AEDb"
      }
    },
    {
      "cell_type": "markdown",
      "source": [
        "=> The external_function initializes an external programs by creating the necessary sub-directories in the directory found in the environment variable HOME. This function does this work only once in each process.\n",
        "\n",
        "With the first example, which uses os.fork(), the directories are created as expected. But with second example, which uses multiprocessing."
      ],
      "metadata": {
        "id": "hJ3kuL3lD1pC"
      }
    },
    {
      "cell_type": "markdown",
      "source": [
        "19. What is the importance of closing a file in Python?\n"
      ],
      "metadata": {
        "id": "8gEZ_JhlAXoh"
      }
    },
    {
      "cell_type": "markdown",
      "source": [
        "=>A file object  is a representation of an open file. When working with files, it is essential to close the file properly to release system resources and ensure data integrity."
      ],
      "metadata": {
        "id": "sNtG3Je6D2Cc"
      }
    },
    {
      "cell_type": "markdown",
      "source": [
        " 20. What is the difference between file.read() and file.readline() in Python?\n"
      ],
      "metadata": {
        "id": "DnNCkx42AZg7"
      }
    },
    {
      "cell_type": "markdown",
      "source": [
        "=> The difference between file.read() and file.readlines() in Python are:-\n",
        "\n",
        "* file.read(): Reads the entire file and returns it as a single string.\n",
        "* file.readlines(): Reads the entire file and returns it as a list of strings, where each element of the list is a single line of the file."
      ],
      "metadata": {
        "id": "eZpsO1jZD2fZ"
      }
    },
    {
      "cell_type": "markdown",
      "source": [
        " 21. What is the logging module in Python used for?\n"
      ],
      "metadata": {
        "id": "PcCI8rhvAbW9"
      }
    },
    {
      "cell_type": "markdown",
      "source": [
        "=> Logging is a means of tracking events that happen when some software runs. Logging is important for software developing, debugging, and running. If you don’t have any logging record and your program crashes, there are very few chances that you detect the cause of the problem. And if you detect the cause, it will consume a lot of time. With logging, you can leave a trail of breadcrumbs so that if something goes wrong, we can determine the cause of the problem."
      ],
      "metadata": {
        "id": "jlTkXXhBD26o"
      }
    },
    {
      "cell_type": "markdown",
      "source": [
        " 22. What is the os module in Python used for in file handling?\n"
      ],
      "metadata": {
        "id": "n7UM4rEDAds_"
      }
    },
    {
      "cell_type": "markdown",
      "source": [
        "=> The OS module in Python provides functions for interacting with the operating system. OS comes under Python’s standard utility modules. This module provides a portable way of using operating system-dependent functionality."
      ],
      "metadata": {
        "id": "FrV1Epe7D3eE"
      }
    },
    {
      "cell_type": "markdown",
      "source": [
        " 23. What are the challenges associated with memory management in Python?\n"
      ],
      "metadata": {
        "id": "xEdxWzYzAfYZ"
      }
    },
    {
      "cell_type": "markdown",
      "source": [
        "=> Memory allocation is important to any software developer as writing efficient code means writing a memory-efficient code. Memory allocation can be defined as allocating a block of space in the computer memory to a program."
      ],
      "metadata": {
        "id": "XSTpUnuvD4Jm"
      }
    },
    {
      "cell_type": "markdown",
      "source": [
        " 24. How do you raise an exception manually in Python?\n"
      ],
      "metadata": {
        "id": "FDvtDuR_AhK3"
      }
    },
    {
      "cell_type": "markdown",
      "source": [
        "=> You may want to manually raise or throw an exception to signal that an error has occurred or to control the flow of your program. We can use the assert statement and the sys.exc_info() function to raise and re-raise exceptions."
      ],
      "metadata": {
        "id": "Zqy7Tgr_D4z-"
      }
    },
    {
      "cell_type": "markdown",
      "source": [
        " 25. Why is it important to use multithreading in certain applications?"
      ],
      "metadata": {
        "id": "APd4baEJAjCZ"
      }
    },
    {
      "cell_type": "markdown",
      "source": [
        "=> Multithreading is a crucial concept in modern computing that allows multiple threads to execute concurrently, enabling more efficient utilization of system resources."
      ],
      "metadata": {
        "id": "6cr3ia_DD5kG"
      }
    },
    {
      "cell_type": "markdown",
      "source": [
        "#Practical Questions"
      ],
      "metadata": {
        "id": "LbWGtVM3Ak0T"
      }
    },
    {
      "cell_type": "markdown",
      "source": [
        " 1. How can you open a file for writing in Python and write a string to it?\n",
        ""
      ],
      "metadata": {
        "id": "GPWJvYcrAo_r"
      }
    },
    {
      "cell_type": "code",
      "source": [
        "#code for the above ques\n",
        "file = open(\"my_file.txt\", \"w\")\n",
        "file.write(\"This is the text I want to write.\")\n",
        "file.close()\n"
      ],
      "metadata": {
        "id": "Abw4W6JKDLhk"
      },
      "execution_count": 1,
      "outputs": []
    },
    {
      "cell_type": "markdown",
      "source": [
        "2. Write a Python program to read the contents of a file and print each line.\n"
      ],
      "metadata": {
        "id": "DxM10kcwB1W7"
      }
    },
    {
      "cell_type": "code",
      "source": [
        "#code for the above ques\n",
        "with open(\"my_file.txt\", \"r\") as file:\n",
        "    for line in file:\n",
        "        print(line)"
      ],
      "metadata": {
        "colab": {
          "base_uri": "https://localhost:8080/"
        },
        "id": "OYo5P9VfDMRA",
        "outputId": "b2b2dab4-3a61-4e52-a5f2-9cd5a33844d3"
      },
      "execution_count": 2,
      "outputs": [
        {
          "output_type": "stream",
          "name": "stdout",
          "text": [
            "This is the text I want to write.\n"
          ]
        }
      ]
    },
    {
      "cell_type": "markdown",
      "source": [
        " 3. How would you handle a case where the file doesn't exist while trying to open it for reading?\n",
        ""
      ],
      "metadata": {
        "id": "d5Z3ULiSB5I7"
      }
    },
    {
      "cell_type": "code",
      "source": [
        "#code for the above ques\n",
        "try:\n",
        "    with open(\"non_existent_file.txt\", \"r\") as file:\n",
        "        content = file.read()\n",
        "except FileNotFoundError:\n",
        "    print(\"The file does not exist.\")"
      ],
      "metadata": {
        "colab": {
          "base_uri": "https://localhost:8080/"
        },
        "id": "ttrSfgqQDMxz",
        "outputId": "8e171fb6-258c-4de1-99a2-8c7dcba7b0ec"
      },
      "execution_count": 3,
      "outputs": [
        {
          "output_type": "stream",
          "name": "stdout",
          "text": [
            "The file does not exist.\n"
          ]
        }
      ]
    },
    {
      "cell_type": "markdown",
      "source": [
        "4. Write a Python script that reads from one file and writes its content to another file.\n"
      ],
      "metadata": {
        "id": "E8HMIvbXB9eT"
      }
    },
    {
      "cell_type": "code",
      "source": [
        "#code for the above ques\n",
        "with open(\"my_file.txt\", \"r\") as source_file:\n",
        "    content = source_file.read()\n",
        "\n",
        "with open(\"new_file.txt\", \"w\") as destination_file:\n",
        "    destination_file.write(content)\n"
      ],
      "metadata": {
        "id": "FsorBWkjDNSR"
      },
      "execution_count": 4,
      "outputs": []
    },
    {
      "cell_type": "markdown",
      "source": [
        " 5. How would you catch and handle division by zero error in Python?\n"
      ],
      "metadata": {
        "id": "lpZuFhJkB_jZ"
      }
    },
    {
      "cell_type": "code",
      "source": [
        "#code for the above ques\n",
        "try:\n",
        "    result = 10 / 0\n",
        "except ZeroDivisionError:\n",
        "    print(\"Error: Division by zero\")"
      ],
      "metadata": {
        "id": "82Lz2GZ_DN0V"
      },
      "execution_count": null,
      "outputs": []
    },
    {
      "cell_type": "markdown",
      "source": [
        " 6. Write a Python program that logs an error message to a log file when a division by zero exception occurs.\n"
      ],
      "metadata": {
        "id": "h01XZczGCBxX"
      }
    },
    {
      "cell_type": "code",
      "source": [
        "#code for the above ques\n",
        "import logging\n",
        "\n",
        "logging.basicConfig(filename='error.log', level=logging.ERROR)\n",
        "\n",
        "try:\n",
        "    result = 10 / 0\n",
        "except ZeroDivisionError:\n",
        "    logging.error(\"Division by zero error occurred\")"
      ],
      "metadata": {
        "id": "Cz8WeXg1DONP"
      },
      "execution_count": null,
      "outputs": []
    },
    {
      "cell_type": "markdown",
      "source": [
        " 7. How do you log information at different levels (INFO, ERROR, WARNING) in Python using the logging module?\n"
      ],
      "metadata": {
        "id": "EMpIzBqwCDxF"
      }
    },
    {
      "cell_type": "code",
      "source": [
        "#code for the above ques\n",
        "import logging\n",
        "\n",
        "logging.basicConfig(level=logging.INFO)\n",
        "logging.info(\"This is an info message\")\n",
        "\n",
        "logging.basicConfig(level=logging.ERROR)\n",
        "logging.error(\"This is an error message\")"
      ],
      "metadata": {
        "colab": {
          "base_uri": "https://localhost:8080/"
        },
        "id": "zBbeBDOJDOly",
        "outputId": "436fec3f-53cf-47fa-cdd3-b39537c1b26f"
      },
      "execution_count": 5,
      "outputs": [
        {
          "output_type": "stream",
          "name": "stderr",
          "text": [
            "ERROR:root:This is an error message\n"
          ]
        }
      ]
    },
    {
      "cell_type": "markdown",
      "source": [
        " 8. Write a program to handle a file opening error using exception handling.\n"
      ],
      "metadata": {
        "id": "z_pVqkTICFyv"
      }
    },
    {
      "cell_type": "code",
      "source": [
        "#code for the above ques\n",
        "try:\n",
        "    with open(\"non_existent_file.txt\", \"r\") as file:\n",
        "        content = file.read()\n",
        "except FileNotFoundError:\n",
        "    print(\"The file does not exist.\")"
      ],
      "metadata": {
        "colab": {
          "base_uri": "https://localhost:8080/"
        },
        "id": "XgSF7IsQDPDO",
        "outputId": "9c1bb6d0-91bb-4a91-9087-8782affd8a23"
      },
      "execution_count": 7,
      "outputs": [
        {
          "output_type": "stream",
          "name": "stdout",
          "text": [
            "The file does not exist.\n"
          ]
        }
      ]
    },
    {
      "cell_type": "markdown",
      "source": [
        " 9. How can you read a file line by line and store its content in a list in Python?\n"
      ],
      "metadata": {
        "id": "3ivEyVe8CH2t"
      }
    },
    {
      "cell_type": "code",
      "source": [
        "#code for the above ques\n",
        "with open(\"my_file.txt\", \"r\") as file:\n",
        "    lines = file.readlines()\n",
        "    for line in lines:\n",
        "        print(line)"
      ],
      "metadata": {
        "colab": {
          "base_uri": "https://localhost:8080/"
        },
        "id": "O8bi7vguDPik",
        "outputId": "d543612a-6522-4f61-9b93-8fba75e59aef"
      },
      "execution_count": 6,
      "outputs": [
        {
          "output_type": "stream",
          "name": "stdout",
          "text": [
            "This is the text I want to write.\n"
          ]
        }
      ]
    },
    {
      "cell_type": "markdown",
      "source": [
        " 10. How can you append data to an existing file in Python?\n",
        ""
      ],
      "metadata": {
        "id": "Exq3GZJvCJwv"
      }
    },
    {
      "cell_type": "code",
      "source": [
        "#code for the above ques\n",
        "with open(\"my_file.txt\", \"a\") as file:\n",
        "    file.write(\"This is the text I want to append.\")"
      ],
      "metadata": {
        "id": "3LJov2MxDQ2b"
      },
      "execution_count": 8,
      "outputs": []
    },
    {
      "cell_type": "markdown",
      "source": [
        "11. Write a Python program that uses a try-except block to handle an error when attempting to access a dictionary key that doesn't exist?\n"
      ],
      "metadata": {
        "id": "HZ1p2Vh3CLyv"
      }
    },
    {
      "cell_type": "code",
      "source": [
        "#code for the above ques\n",
        "my_dict = {'a': 1, 'b': 2, 'c': 3}\n",
        "\n",
        "try:\n",
        "    value = my_dict['d']\n",
        "except KeyError:\n",
        "    print(\"Error: Key not found in dictionary\")"
      ],
      "metadata": {
        "colab": {
          "base_uri": "https://localhost:8080/"
        },
        "id": "wlRWDI-qDReb",
        "outputId": "a76dc9b5-9827-40a1-9726-d6a34e8351b2"
      },
      "execution_count": 19,
      "outputs": [
        {
          "output_type": "stream",
          "name": "stdout",
          "text": [
            "Error: Key not found in dictionary\n"
          ]
        }
      ]
    },
    {
      "cell_type": "markdown",
      "source": [
        " 12. Write a program that demonstrates using multiple except blocks to handle different types of exceptions?\n"
      ],
      "metadata": {
        "id": "d5VYfIPkCN3y"
      }
    },
    {
      "cell_type": "code",
      "source": [
        "#code for the above ques\n",
        "try:\n",
        "    result = 10 / 0\n",
        "except ZeroDivisionError:\n",
        "    print(\"Error: Division by zero\")\n",
        "except ValueError:\n",
        "    print(\"Error: Invalid value\")"
      ],
      "metadata": {
        "colab": {
          "base_uri": "https://localhost:8080/"
        },
        "id": "l9K7w4n3DR6J",
        "outputId": "b59e54de-eac7-4793-ae57-acccaac7ae83"
      },
      "execution_count": 20,
      "outputs": [
        {
          "output_type": "stream",
          "name": "stdout",
          "text": [
            "Error: Division by zero\n"
          ]
        }
      ]
    },
    {
      "cell_type": "markdown",
      "source": [
        " 13. How would you check if a file exists before attempting to read it in Python?\n"
      ],
      "metadata": {
        "id": "xhFzX4szCP90"
      }
    },
    {
      "cell_type": "code",
      "source": [
        "#code for the above ques\n",
        "import os\n",
        "\n",
        "if os.path.exists(\"my_file.txt\"):\n",
        "    with open(\"my_file.txt\", \"r\") as file:\n",
        "        content = file.read()\n",
        "        print(content)\n",
        "else:\n",
        "    print(\"The file does not exist.\")"
      ],
      "metadata": {
        "colab": {
          "base_uri": "https://localhost:8080/"
        },
        "id": "KS5nIGAdDSZq",
        "outputId": "7939feca-34fa-4511-8c18-75d51802e14f"
      },
      "execution_count": 21,
      "outputs": [
        {
          "output_type": "stream",
          "name": "stdout",
          "text": [
            "This is the text I want to write.This is the text I want to append.\n"
          ]
        }
      ]
    },
    {
      "cell_type": "markdown",
      "source": [
        " 14. Write a program that uses the logging module to log both informational and error messages.\n"
      ],
      "metadata": {
        "id": "dGM7EGSGCR0C"
      }
    },
    {
      "cell_type": "code",
      "source": [
        "#code for the above ques\n",
        "import logging\n",
        "\n",
        "logging.basicConfig(level=logging.INFO)\n",
        "logging.info(\"This is an info message\")\n",
        "\n",
        "logging.basicConfig(level=logging.ERROR)\n",
        "logging.error(\"This is an error message\")"
      ],
      "metadata": {
        "colab": {
          "base_uri": "https://localhost:8080/"
        },
        "id": "xH86k6cjDS1y",
        "outputId": "f3550143-8982-40ef-ff6f-759004ec0549"
      },
      "execution_count": 22,
      "outputs": [
        {
          "output_type": "stream",
          "name": "stderr",
          "text": [
            "ERROR:root:This is an error message\n"
          ]
        }
      ]
    },
    {
      "cell_type": "markdown",
      "source": [
        " 15. Write a Python program that prints the content of a file and handles the case when the file is empty.\n"
      ],
      "metadata": {
        "id": "fU0wWOklCUBE"
      }
    },
    {
      "cell_type": "code",
      "source": [
        "#code for the above ques\n",
        "try:\n",
        "    with open(\"my_file.txt\", \"r\") as file:\n",
        "        content = file.read()\n",
        "        if content:\n",
        "            print(content)\n",
        "        else:\n",
        "            print(\"The file is empty.\")\n",
        "except FileNotFoundError:\n",
        "    print(\"The file does not exist.\")"
      ],
      "metadata": {
        "colab": {
          "base_uri": "https://localhost:8080/"
        },
        "id": "5o1UbdAKDTVp",
        "outputId": "9af3a331-d3cd-4113-ab2c-b87e961b93c3"
      },
      "execution_count": 24,
      "outputs": [
        {
          "output_type": "stream",
          "name": "stdout",
          "text": [
            "This is the text I want to write.This is the text I want to append.\n"
          ]
        }
      ]
    },
    {
      "cell_type": "markdown",
      "source": [
        " 16. Demonstrate how to use memory profiling to check the memory usage of a small program.\n"
      ],
      "metadata": {
        "id": "1ADHr_FwCWDm"
      }
    },
    {
      "cell_type": "code",
      "source": [
        "#code for the above ques\n",
        "from memory_profiler import profile\n",
        "\n",
        "@profile\n",
        "def my_function():\n",
        "    my_list = [x * 2 for x in range(100000)]  # Create a large list\n",
        "    return my_list\n",
        "\n",
        "if __name__ == \"__main__\":\n",
        "    my_function()"
      ],
      "metadata": {
        "id": "qAGn4mAzmkyN"
      },
      "execution_count": null,
      "outputs": []
    },
    {
      "cell_type": "markdown",
      "source": [
        " 17. Write a Python program to create and write a list of numbers to a file, one number per line.\n"
      ],
      "metadata": {
        "id": "D-DupXaFCYTa"
      }
    },
    {
      "cell_type": "code",
      "source": [
        "#code for the above ques\n",
        "numbers = [1, 2, 3, 4, 5]\n",
        "\n",
        "with open(\"numbers.txt\", \"w\") as file:\n",
        "    for number in numbers:\n",
        "        file.write(str(number) + \"\\n\")"
      ],
      "metadata": {
        "id": "BeNE4V3LDU3X"
      },
      "execution_count": 25,
      "outputs": []
    },
    {
      "cell_type": "markdown",
      "source": [
        " 18. How would you implement a basic logging setup that logs to a file with rotation after 1MB?\n"
      ],
      "metadata": {
        "id": "3v_wi6-6Ca2A"
      }
    },
    {
      "cell_type": "code",
      "source": [
        "#code for the above ques\n",
        "import logging\n",
        "from logging.handlers import RotatingFileHandler\n",
        "\n",
        "logging.basicConfig(level=logging.INFO)\n",
        "\n",
        "handler = RotatingFileHandler(\"my_log.log\", maxBytes=1000000, backupCount=5)"
      ],
      "metadata": {
        "id": "vehLvEBKDVXe"
      },
      "execution_count": 13,
      "outputs": []
    },
    {
      "cell_type": "markdown",
      "source": [
        " 19. Write a program that handles both IndexError and KeyError using a try-except block.\n",
        ""
      ],
      "metadata": {
        "id": "KROGXupGCc0O"
      }
    },
    {
      "cell_type": "code",
      "source": [
        "#code for the above ques\n",
        "my_list = [1, 2, 3]\n",
        "\n",
        "try:\n",
        "    value = my_list[3]\n",
        "except IndexError:\n",
        "    print(\"Error: Index out of range\")\n",
        "except KeyError:\n",
        "    print(\"Error: Key not found in dictionary\")"
      ],
      "metadata": {
        "colab": {
          "base_uri": "https://localhost:8080/"
        },
        "id": "V19XpZfrDXAj",
        "outputId": "b1450ea2-9bac-4a18-9e20-f24c9e58c848"
      },
      "execution_count": 12,
      "outputs": [
        {
          "output_type": "stream",
          "name": "stdout",
          "text": [
            "Error: Index out of range\n"
          ]
        }
      ]
    },
    {
      "cell_type": "markdown",
      "source": [
        "20. How would you open a file and read its contents using a context manager in Python?\n"
      ],
      "metadata": {
        "id": "aShLkTe2CfMB"
      }
    },
    {
      "cell_type": "code",
      "source": [
        "#code for the above ques\n",
        "with open(\"my_file.txt\", \"r\") as file:\n",
        "    content = file.read()\n",
        "    print(content)"
      ],
      "metadata": {
        "colab": {
          "base_uri": "https://localhost:8080/"
        },
        "id": "TkgRazGPDXiO",
        "outputId": "fbec1c0d-75f8-45bc-b171-c7915569be00"
      },
      "execution_count": 11,
      "outputs": [
        {
          "output_type": "stream",
          "name": "stdout",
          "text": [
            "This is the text I want to write.This is the text I want to append.\n"
          ]
        }
      ]
    },
    {
      "cell_type": "markdown",
      "source": [
        " 21. Write a Python program that reads a file and prints the number of occurrences of a specific word.\n"
      ],
      "metadata": {
        "id": "8APlFfchChI-"
      }
    },
    {
      "cell_type": "code",
      "source": [
        "#code for the above ques\n",
        "word_to_count = \"Python\"\n",
        "\n",
        "with open(\"my_file.txt\", \"r\") as file:\n",
        "    content = file.read()\n",
        "    count = content.count(word_to_count)\n",
        "    print"
      ],
      "metadata": {
        "id": "LigIkoN9DX_r"
      },
      "execution_count": 10,
      "outputs": []
    },
    {
      "cell_type": "markdown",
      "source": [
        " 22. How can you check if a file is empty before attempting to read its contents?\n"
      ],
      "metadata": {
        "id": "F4CLeGeaCjRY"
      }
    },
    {
      "cell_type": "code",
      "source": [
        "#code for the above ques\n",
        "import os\n",
        "\n",
        "if os.path.getsize(\"my_file.txt\") > 0:\n",
        "    with open(\"my_file.txt\", \"r\") as file:\n",
        "        content = file.read()\n",
        "        print(content)"
      ],
      "metadata": {
        "colab": {
          "base_uri": "https://localhost:8080/"
        },
        "id": "UM_qAhL-DYcI",
        "outputId": "42b1ed72-1d60-41d2-e596-0a232815dfd1"
      },
      "execution_count": 9,
      "outputs": [
        {
          "output_type": "stream",
          "name": "stdout",
          "text": [
            "This is the text I want to write.This is the text I want to append.\n"
          ]
        }
      ]
    },
    {
      "cell_type": "markdown",
      "source": [
        " 23. Write a Python program that writes to a log file when an error occurs during file handling."
      ],
      "metadata": {
        "id": "1Y5Vs8OoClUO"
      }
    },
    {
      "cell_type": "code",
      "source": [
        "#code for the above ques\n",
        "import logging\n",
        "\n",
        "logging.basicConfig(filename='error.log', level=logging.ERROR)"
      ],
      "metadata": {
        "id": "EE1IKElhDY4K"
      },
      "execution_count": 18,
      "outputs": []
    }
  ]
}